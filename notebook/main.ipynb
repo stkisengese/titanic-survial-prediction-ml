{
  "cells": [
    {
      "cell_type": "markdown",
      "metadata": {
        "id": "view-in-github",
        "colab_type": "text"
      },
      "source": [
        "<a href=\"https://colab.research.google.com/github/stkisengese/titanic-survial-prediction-ml/blob/main/notebook/main.ipynb\" target=\"_parent\"><img src=\"https://colab.research.google.com/assets/colab-badge.svg\" alt=\"Open In Colab\"/></a>"
      ]
    },
    {
      "cell_type": "markdown",
      "source": [
        "Titanic Machine Learining - Iteration 1: Naive Baseline"
      ],
      "metadata": {
        "id": "FpczcA8EH8XV"
      },
      "id": "FpczcA8EH8XV"
    },
    {
      "cell_type": "code",
      "source": [
        "import pandas as pd\n",
        "import numpy as np"
      ],
      "metadata": {
        "id": "B-k7hhYrIJFo"
      },
      "id": "B-k7hhYrIJFo",
      "execution_count": 1,
      "outputs": []
    },
    {
      "cell_type": "markdown",
      "source": [
        "Predict all passagers die(survival = 0)"
      ],
      "metadata": {
        "id": "0oA4oBctINgn"
      },
      "id": "0oA4oBctINgn"
    },
    {
      "cell_type": "code",
      "source": [
        "# Load data\n",
        "test = pd.read_csv('data/test.csv')\n",
        "train = pd.read_csv('data/train.csv')"
      ],
      "metadata": {
        "id": "L5-rcPeJIXXv"
      },
      "id": "L5-rcPeJIXXv",
      "execution_count": 10,
      "outputs": []
    },
    {
      "cell_type": "code",
      "source": [
        "# write submission with all passengers predicted as died\n",
        "\n",
        "submission = pd.DataFrame({\n",
        "        \"PassengerId\": test[\"PassengerId\"],\n",
        "        \"Survived\": 0\n",
        "})"
      ],
      "metadata": {
        "id": "uQ4Ht6WQIpUL"
      },
      "id": "uQ4Ht6WQIpUL",
      "execution_count": 11,
      "outputs": []
    },
    {
      "cell_type": "code",
      "source": [
        "# Save the submission file\n",
        "submission.to_csv('data/gender_submission.csv', index=False)"
      ],
      "metadata": {
        "id": "YUGioZuxItIT"
      },
      "id": "YUGioZuxItIT",
      "execution_count": 12,
      "outputs": []
    },
    {
      "cell_type": "code",
      "source": [
        "!ls data"
      ],
      "metadata": {
        "id": "QrfaLVUOJY9s",
        "outputId": "fcef85c2-7ad4-4ffc-ff73-e6d7969a61ad",
        "colab": {
          "base_uri": "https://localhost:8080/"
        }
      },
      "id": "QrfaLVUOJY9s",
      "execution_count": 13,
      "outputs": [
        {
          "output_type": "stream",
          "name": "stdout",
          "text": [
            "gender_submission.csv  test.csv  train.csv\n"
          ]
        }
      ]
    },
    {
      "cell_type": "code",
      "source": [
        "print(submission.head(10))\n",
        "print(submission.tail(10))"
      ],
      "metadata": {
        "id": "A9m6irZsJycL",
        "outputId": "35845c3f-6c18-450f-cd16-2e8605ec0064",
        "colab": {
          "base_uri": "https://localhost:8080/"
        }
      },
      "id": "A9m6irZsJycL",
      "execution_count": 14,
      "outputs": [
        {
          "output_type": "stream",
          "name": "stdout",
          "text": [
            "   PassengerId  Survived\n",
            "0          892         0\n",
            "1          893         0\n",
            "2          894         0\n",
            "3          895         0\n",
            "4          896         0\n",
            "5          897         0\n",
            "6          898         0\n",
            "7          899         0\n",
            "8          900         0\n",
            "9          901         0\n",
            "     PassengerId  Survived\n",
            "408         1300         0\n",
            "409         1301         0\n",
            "410         1302         0\n",
            "411         1303         0\n",
            "412         1304         0\n",
            "413         1305         0\n",
            "414         1306         0\n",
            "415         1307         0\n",
            "416         1308         0\n",
            "417         1309         0\n"
          ]
        }
      ]
    }
  ],
  "metadata": {
    "kernelspec": {
      "display_name": "Python 3 (ipykernel)",
      "language": "python",
      "name": "python3"
    },
    "language_info": {
      "codemirror_mode": {
        "name": "ipython",
        "version": 3
      },
      "file_extension": ".py",
      "mimetype": "text/x-python",
      "name": "python",
      "nbconvert_exporter": "python",
      "pygments_lexer": "ipython3",
      "version": "3.12.11"
    },
    "colab": {
      "provenance": [],
      "include_colab_link": true
    }
  },
  "nbformat": 4,
  "nbformat_minor": 5
}