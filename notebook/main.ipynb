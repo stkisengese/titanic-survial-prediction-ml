{
 "cells": [
  {
   "cell_type": "markdown",
   "id": "999fe10f",
   "metadata": {
    "colab_type": "text",
    "id": "view-in-github"
   },
   "source": [
    "<a href=\"https://colab.research.google.com/github/stkisengese/titanic-survial-prediction-ml/blob/main/notebook/main.ipynb\" target=\"_parent\"><img src=\"https://colab.research.google.com/assets/colab-badge.svg\" alt=\"Open In Colab\"/></a>"
   ]
  },
  {
   "cell_type": "markdown",
   "id": "FpczcA8EH8XV",
   "metadata": {
    "id": "FpczcA8EH8XV"
   },
   "source": [
    "Titanic Machine Learining - Iteration 1: Naive Baseline"
   ]
  },
  {
   "cell_type": "code",
   "execution_count": 1,
   "id": "B-k7hhYrIJFo",
   "metadata": {
    "id": "B-k7hhYrIJFo"
   },
   "outputs": [],
   "source": [
    "import pandas as pd\n",
    "import numpy as np"
   ]
  },
  {
   "cell_type": "markdown",
   "id": "0oA4oBctINgn",
   "metadata": {
    "id": "0oA4oBctINgn"
   },
   "source": [
    "Predict all passagers die(survival = 0)"
   ]
  },
  {
   "cell_type": "code",
   "execution_count": 2,
   "id": "L5-rcPeJIXXv",
   "metadata": {
    "id": "L5-rcPeJIXXv"
   },
   "outputs": [],
   "source": [
    "# Load data\n",
    "test = pd.read_csv('../data/test.csv')\n",
    "train = pd.read_csv('../data/train.csv')"
   ]
  },
  {
   "cell_type": "code",
   "execution_count": 3,
   "id": "uQ4Ht6WQIpUL",
   "metadata": {
    "id": "uQ4Ht6WQIpUL"
   },
   "outputs": [],
   "source": [
    "# write submission with all passengers predicted as died\n",
    "\n",
    "submission = pd.DataFrame({\n",
    "        \"PassengerId\": test[\"PassengerId\"],\n",
    "        \"Survived\": 0\n",
    "})"
   ]
  },
  {
   "cell_type": "code",
   "execution_count": 4,
   "id": "YUGioZuxItIT",
   "metadata": {
    "id": "YUGioZuxItIT"
   },
   "outputs": [],
   "source": [
    "# Save the submission file\n",
    "submission.to_csv('../data/gender_submission.csv', index=False)"
   ]
  },
  {
   "cell_type": "code",
   "execution_count": 5,
   "id": "A9m6irZsJycL",
   "metadata": {
    "colab": {
     "base_uri": "https://localhost:8080/"
    },
    "id": "A9m6irZsJycL",
    "outputId": "35845c3f-6c18-450f-cd16-2e8605ec0064"
   },
   "outputs": [
    {
     "name": "stdout",
     "output_type": "stream",
     "text": [
      "   PassengerId  Survived\n",
      "0          892         0\n",
      "1          893         0\n",
      "2          894         0\n",
      "3          895         0\n",
      "4          896         0\n",
      "5          897         0\n",
      "6          898         0\n",
      "7          899         0\n",
      "8          900         0\n",
      "9          901         0\n",
      "     PassengerId  Survived\n",
      "408         1300         0\n",
      "409         1301         0\n",
      "410         1302         0\n",
      "411         1303         0\n",
      "412         1304         0\n",
      "413         1305         0\n",
      "414         1306         0\n",
      "415         1307         0\n",
      "416         1308         0\n",
      "417         1309         0\n"
     ]
    }
   ],
   "source": [
    "print(submission.head(10))\n",
    "print(submission.tail(10))"
   ]
  },
  {
   "cell_type": "code",
   "execution_count": null,
   "id": "704c3a89-5488-4198-b5cf-4a7a6cf31e22",
   "metadata": {},
   "outputs": [],
   "source": []
  }
 ],
 "metadata": {
  "colab": {
   "include_colab_link": true,
   "provenance": []
  },
  "kernelspec": {
   "display_name": "Python 3 (ipykernel)",
   "language": "python",
   "name": "python3"
  },
  "language_info": {
   "codemirror_mode": {
    "name": "ipython",
    "version": 3
   },
   "file_extension": ".py",
   "mimetype": "text/x-python",
   "name": "python",
   "nbconvert_exporter": "python",
   "pygments_lexer": "ipython3",
   "version": "3.12.12"
  }
 },
 "nbformat": 4,
 "nbformat_minor": 5
}
