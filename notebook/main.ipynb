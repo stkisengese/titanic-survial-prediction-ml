{
 "cells": [
  {
   "cell_type": "markdown",
   "id": "999fe10f",
   "metadata": {
    "colab_type": "text",
    "id": "view-in-github"
   },
   "source": [
    "<a href=\"https://colab.research.google.com/github/stkisengese/titanic-survial-prediction-ml/blob/main/notebook/main.ipynb\" target=\"_parent\"><img src=\"https://colab.research.google.com/assets/colab-badge.svg\" alt=\"Open In Colab\"/></a>"
   ]
  },
  {
   "cell_type": "markdown",
   "id": "FpczcA8EH8XV",
   "metadata": {
    "id": "FpczcA8EH8XV"
   },
   "source": [
    "Titanic Machine Learining - Iteration 1: Naive Baseline"
   ]
  },
  {
   "cell_type": "code",
   "execution_count": 2,
   "id": "B-k7hhYrIJFo",
   "metadata": {
    "id": "B-k7hhYrIJFo"
   },
   "outputs": [],
   "source": [
    "import pandas as pd\n",
    "import numpy as np"
   ]
  },
  {
   "cell_type": "markdown",
   "id": "0oA4oBctINgn",
   "metadata": {
    "id": "0oA4oBctINgn"
   },
   "source": [
    "Predict all passagers die(survival = 0)"
   ]
  },
  {
   "cell_type": "code",
   "execution_count": 3,
   "id": "L5-rcPeJIXXv",
   "metadata": {
    "id": "L5-rcPeJIXXv"
   },
   "outputs": [],
   "source": [
    "# Load data\n",
    "test = pd.read_csv('../data/test.csv')\n",
    "train = pd.read_csv('../data/train.csv')"
   ]
  },
  {
   "cell_type": "code",
   "execution_count": 4,
   "id": "uQ4Ht6WQIpUL",
   "metadata": {
    "id": "uQ4Ht6WQIpUL"
   },
   "outputs": [],
   "source": [
    "# write submission with all passengers predicted as died\n",
    "submission = pd.DataFrame({\n",
    "        \"PassengerId\": test[\"PassengerId\"],\n",
    "        \"Survived\": 0\n",
    "})\n",
    "\n",
    "# Save the submission file\n",
    "submission.to_csv('../data/gender_submission.csv', index=False)"
   ]
  },
  {
   "cell_type": "code",
   "execution_count": 5,
   "id": "A9m6irZsJycL",
   "metadata": {
    "colab": {
     "base_uri": "https://localhost:8080/"
    },
    "id": "A9m6irZsJycL",
    "outputId": "35845c3f-6c18-450f-cd16-2e8605ec0064"
   },
   "outputs": [],
   "source": [
    "# print(submission.head(10))\n",
    "# print(submission.tail(10))"
   ]
  },
  {
   "cell_type": "markdown",
   "id": "9615f8ea-c988-406e-b309-d202248f31a0",
   "metadata": {},
   "source": [
    "Iteration 2: "
   ]
  },
  {
   "cell_type": "code",
   "execution_count": 9,
   "id": "a518be59-a5ed-4f9c-b6f0-b5fa0d553ca3",
   "metadata": {},
   "outputs": [
    {
     "name": "stdout",
     "output_type": "stream",
     "text": [
      "Shape:  (891, 12)\n",
      "<class 'pandas.core.frame.DataFrame'>\n",
      "RangeIndex: 891 entries, 0 to 890\n",
      "Data columns (total 12 columns):\n",
      " #   Column       Non-Null Count  Dtype  \n",
      "---  ------       --------------  -----  \n",
      " 0   PassengerId  891 non-null    int64  \n",
      " 1   Survived     891 non-null    int64  \n",
      " 2   Pclass       891 non-null    int64  \n",
      " 3   Name         891 non-null    object \n",
      " 4   Sex          891 non-null    object \n",
      " 5   Age          714 non-null    float64\n",
      " 6   SibSp        891 non-null    int64  \n",
      " 7   Parch        891 non-null    int64  \n",
      " 8   Ticket       891 non-null    object \n",
      " 9   Fare         891 non-null    float64\n",
      " 10  Cabin        204 non-null    object \n",
      " 11  Embarked     889 non-null    object \n",
      "dtypes: float64(2), int64(5), object(5)\n",
      "memory usage: 83.7+ KB\n"
     ]
    },
    {
     "data": {
      "text/plain": [
       "PassengerId      0\n",
       "Survived         0\n",
       "Pclass           0\n",
       "Name             0\n",
       "Sex              0\n",
       "Age            177\n",
       "SibSp            0\n",
       "Parch            0\n",
       "Ticket           0\n",
       "Fare             0\n",
       "Cabin          687\n",
       "Embarked         2\n",
       "dtype: int64"
      ]
     },
     "execution_count": 9,
     "metadata": {},
     "output_type": "execute_result"
    }
   ],
   "source": [
    "# Exploratory Data analysis\n",
    "print(\"Shape: \", train.shape)\n",
    "train.info()\n",
    "train.describe()\n",
    "train.head()\n",
    "train.isnull().sum()"
   ]
  },
  {
   "cell_type": "code",
   "execution_count": null,
   "id": "f775cad7-e87e-4870-8093-000ae75bee3c",
   "metadata": {},
   "outputs": [],
   "source": []
  }
 ],
 "metadata": {
  "colab": {
   "include_colab_link": true,
   "provenance": []
  },
  "kernelspec": {
   "display_name": "Python 3 (ipykernel)",
   "language": "python",
   "name": "python3"
  },
  "language_info": {
   "codemirror_mode": {
    "name": "ipython",
    "version": 3
   },
   "file_extension": ".py",
   "mimetype": "text/x-python",
   "name": "python",
   "nbconvert_exporter": "python",
   "pygments_lexer": "ipython3",
   "version": "3.12.12"
  }
 },
 "nbformat": 4,
 "nbformat_minor": 5
}
